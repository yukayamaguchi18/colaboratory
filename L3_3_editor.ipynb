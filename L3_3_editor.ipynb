{
  "nbformat": 4,
  "nbformat_minor": 0,
  "metadata": {
    "colab": {
      "provenance": [],
      "collapsed_sections": [
        "VQ3YF0AhZquA",
        "z0uPpa1ZZsqk",
        "Xy3PDN0Hgy5S",
        "QNvJVDL_g3b1",
        "NAzCunjcg50S",
        "4aL-j_qCbOws",
        "94oKrVhgZ8Va",
        "MbogJ_DYa1FW",
        "BZ6_wNNzb9CA",
        "_LnWd29AaEMb",
        "yodTAFuVexpc"
      ],
      "include_colab_link": true
    },
    "kernelspec": {
      "name": "python3",
      "display_name": "Python 3"
    },
    "language_info": {
      "name": "python"
    }
  },
  "cells": [
    {
      "cell_type": "markdown",
      "metadata": {
        "id": "view-in-github",
        "colab_type": "text"
      },
      "source": [
        "<a href=\"https://colab.research.google.com/github/yukayamaguchi18/colaboratory/blob/main/L3_3_editor.ipynb\" target=\"_parent\"><img src=\"https://colab.research.google.com/assets/colab-badge.svg\" alt=\"Open In Colab\"/></a>"
      ]
    },
    {
      "cell_type": "markdown",
      "metadata": {
        "id": "mD6tkIQAYL1e"
      },
      "source": [
        "# 構文 exercises\n",
        "\n",
        "\n",
        "1. 条件分岐について学習します。（4問）\n",
        "2. 繰り返し文について学習します。 (4問)\n",
        "3. 例外処理について学習します　(2問)\n",
        "\n",
        "\n",
        "**解答は参考例なので、コードが完全一致している必要はありません。**"
      ]
    },
    {
      "cell_type": "markdown",
      "source": [
        "**<font color=\"red\">このファイルは、コピーして自分のドライブに保存しなければ、編集が保存されず、課題を提出できません。</font>**\n",
        "\n",
        "**<font color=\"red\">もしまだコピーしていなければ、「事前準備」レッスンの「Chapter 2\n",
        "演習問題、提出課題について」を参考にしながら、左上の「ファイル」から「ドライブにコピーを保存」を選択して、必ずコピーを保存してください。</font>**"
      ],
      "metadata": {
        "id": "dmAOMgvy0iUb"
      }
    },
    {
      "cell_type": "markdown",
      "metadata": {
        "id": "VQ3YF0AhZquA"
      },
      "source": [
        "## 1. 条件分岐について学習します。（4問）"
      ]
    },
    {
      "cell_type": "markdown",
      "metadata": {
        "id": "z0uPpa1ZZsqk"
      },
      "source": [
        "### 1.1 「次のa, bの大きさを比較して、大きい方を表示してください。」"
      ]
    },
    {
      "cell_type": "code",
      "source": [
        "# こちらのセルを実行してください。\n",
        "a = 100\n",
        "b = 150\n",
        "if a > b:\n",
        "    print(a)\n",
        "else:\n",
        "    print(b)"
      ],
      "metadata": {
        "id": "AT-tIHeMD7p0",
        "colab": {
          "base_uri": "https://localhost:8080/"
        },
        "outputId": "8978d030-04bb-4c8c-ffd1-68a0af76084f"
      },
      "execution_count": null,
      "outputs": [
        {
          "output_type": "stream",
          "name": "stdout",
          "text": [
            "150\n"
          ]
        }
      ]
    },
    {
      "cell_type": "markdown",
      "metadata": {
        "id": "Xy3PDN0Hgy5S"
      },
      "source": [
        "### 1.2 「次のaが3の倍数ならば『Red』、3の倍数ではなく100以上なら『Green』、どれも違うなら『Blue』と表示してください。」"
      ]
    },
    {
      "cell_type": "code",
      "metadata": {
        "id": "W-lmZaDCg3Gk",
        "colab": {
          "base_uri": "https://localhost:8080/"
        },
        "outputId": "8c175d2a-56c5-46d5-b7b6-4e9ee10601e0"
      },
      "source": [
        "# こちらのセルを実行してください。\n",
        "a = 127\n",
        "if a % 3 == 0:\n",
        "    print('Red')\n",
        "elif a >= 100:\n",
        "    print('Green')\n",
        "else:\n",
        "    print('Blue')"
      ],
      "execution_count": null,
      "outputs": [
        {
          "output_type": "stream",
          "name": "stdout",
          "text": [
            "Green\n"
          ]
        }
      ]
    },
    {
      "cell_type": "markdown",
      "metadata": {
        "id": "QNvJVDL_g3b1"
      },
      "source": [
        "### 1.3 「次のaがn_listに含まれてたら『In』、含まれていなかったら『Out』と表示してください。」"
      ]
    },
    {
      "cell_type": "code",
      "source": [
        "# こちらのセルを実行してください。\n",
        "a = 127\n",
        "n_list = [127, 35, 87]\n",
        "if a in n_list:\n",
        "  print('In')\n",
        "else:\n",
        "  print('Out')"
      ],
      "metadata": {
        "id": "YXtIfWHKGIzx",
        "colab": {
          "base_uri": "https://localhost:8080/"
        },
        "outputId": "08ca764c-ca05-444e-87f2-2a5e7414ead6"
      },
      "execution_count": null,
      "outputs": [
        {
          "output_type": "stream",
          "name": "stdout",
          "text": [
            "In\n"
          ]
        }
      ]
    },
    {
      "cell_type": "markdown",
      "metadata": {
        "id": "NAzCunjcg50S"
      },
      "source": [
        "### 1.4 「次のaがbと同じ値でなければ『Good』、同じ値なら『Bad』を表示してください。」"
      ]
    },
    {
      "cell_type": "code",
      "metadata": {
        "id": "wDcJgfMQg77T",
        "colab": {
          "base_uri": "https://localhost:8080/"
        },
        "outputId": "15fe6a03-b216-4845-ff77-72bf149d6462"
      },
      "source": [
        "# こちらのセルを実行してください。\n",
        "a = 145\n",
        "b = 187\n",
        "if a == b:\n",
        "  print('Bad')\n",
        "else:\n",
        "  print('Good')"
      ],
      "execution_count": null,
      "outputs": [
        {
          "output_type": "stream",
          "name": "stdout",
          "text": [
            "Good\n"
          ]
        }
      ]
    },
    {
      "cell_type": "markdown",
      "metadata": {
        "id": "kppqnG7vZ04Z"
      },
      "source": [
        "## 2. 繰り返し文について学習します。 (4問)"
      ]
    },
    {
      "cell_type": "markdown",
      "metadata": {
        "id": "4aL-j_qCbOws"
      },
      "source": [
        "### 2.1 「0から12までの整数の中で、2の倍数のものを表示してください。」"
      ]
    },
    {
      "cell_type": "code",
      "source": [
        "for i in range(13):\n",
        "  if i % 2 == 0:\n",
        "    print(i)"
      ],
      "metadata": {
        "id": "FZ7mXRgXVyS3",
        "colab": {
          "base_uri": "https://localhost:8080/"
        },
        "outputId": "52495873-5d38-4eb0-aa96-65ee7198b667"
      },
      "execution_count": null,
      "outputs": [
        {
          "output_type": "stream",
          "name": "stdout",
          "text": [
            "0\n",
            "2\n",
            "4\n",
            "6\n",
            "8\n",
            "10\n",
            "12\n"
          ]
        }
      ]
    },
    {
      "cell_type": "markdown",
      "metadata": {
        "id": "94oKrVhgZ8Va"
      },
      "source": [
        "### 2.2 「次のn_dictをfor文によって繰り返して、繰り返し変数への代入結果を表示してください。」"
      ]
    },
    {
      "cell_type": "code",
      "metadata": {
        "id": "D9xYVZrUaXcI",
        "colab": {
          "base_uri": "https://localhost:8080/"
        },
        "outputId": "a814c22f-0f16-4c0b-ca64-440ebd9cc9b8"
      },
      "source": [
        "# こちらのセルを実行してください。\n",
        "n_dict = {'太郎': 18, '次郎': 16, 12: '三郎' }\n",
        "for i in n_dict:\n",
        "  print(i)"
      ],
      "execution_count": null,
      "outputs": [
        {
          "output_type": "stream",
          "name": "stdout",
          "text": [
            "太郎\n",
            "次郎\n",
            "12\n"
          ]
        }
      ]
    },
    {
      "cell_type": "markdown",
      "metadata": {
        "id": "JTnQRjzhqCNO"
      },
      "source": [
        "**このように、辞書をfor文で繰り返すと辞書のキーが回されます。**"
      ]
    },
    {
      "cell_type": "markdown",
      "metadata": {
        "id": "MbogJ_DYa1FW"
      },
      "source": [
        "### 2.3 「次のn_dictをfor文によって繰り返して、辞書のバリューを順番に表示してください。」"
      ]
    },
    {
      "cell_type": "code",
      "metadata": {
        "id": "gZf9v17ebBNd",
        "colab": {
          "base_uri": "https://localhost:8080/"
        },
        "outputId": "73e983b6-1082-4e7f-d439-549f4dfd3c04"
      },
      "source": [
        "# こちらのセルを実行してください。\n",
        "n_dict = {'太郎': 18, '次郎': 16, 12: '三郎' }\n",
        "for i in n_dict:\n",
        "  print(n_dict[i])"
      ],
      "execution_count": 1,
      "outputs": [
        {
          "output_type": "stream",
          "name": "stdout",
          "text": [
            "18\n",
            "16\n",
            "三郎\n"
          ]
        }
      ]
    },
    {
      "cell_type": "markdown",
      "metadata": {
        "id": "BZ6_wNNzb9CA"
      },
      "source": [
        "### 2.4 「While文によって、0から5までの数字を表示させてください」"
      ]
    },
    {
      "cell_type": "code",
      "source": [
        "i = 0\n",
        "while i <= 5:\n",
        "   print(i)\n",
        "   i += 1"
      ],
      "metadata": {
        "id": "qy4Q22w9V0uN",
        "colab": {
          "base_uri": "https://localhost:8080/"
        },
        "outputId": "5d4a93c4-527b-42f8-f369-69f237b3fc1f"
      },
      "execution_count": null,
      "outputs": [
        {
          "output_type": "stream",
          "name": "stdout",
          "text": [
            "0\n",
            "1\n",
            "2\n",
            "3\n",
            "4\n",
            "5\n"
          ]
        }
      ]
    },
    {
      "cell_type": "markdown",
      "metadata": {
        "id": "ZJh8aH3wZ60_"
      },
      "source": [
        "## 3. 例外処理について学習します。　(2問)"
      ]
    },
    {
      "cell_type": "markdown",
      "metadata": {
        "id": "_LnWd29AaEMb"
      },
      "source": [
        "### 3.1 「次の処理は例外によるエラーが発生しています。この例外をキャッチして、『例外が起きています』と表示してください。」"
      ]
    },
    {
      "cell_type": "code",
      "metadata": {
        "colab": {
          "base_uri": "https://localhost:8080/"
        },
        "id": "kWlUo-QqaFd1",
        "outputId": "025cc6b3-6354-4f1d-95da-3ecf817b82e3"
      },
      "source": [
        "# こちらのセルを実行してください。\n",
        "try:\n",
        "  n_list = [0, 2, 'ネコ']\n",
        "  print(n_list[5])\n",
        "except IndexError:\n",
        "  print('例外が起きています')"
      ],
      "execution_count": null,
      "outputs": [
        {
          "output_type": "stream",
          "name": "stdout",
          "text": [
            "例外が起きています\n"
          ]
        }
      ]
    },
    {
      "cell_type": "code",
      "source": [],
      "metadata": {
        "id": "-bXjrGaCV2IC"
      },
      "execution_count": null,
      "outputs": []
    },
    {
      "cell_type": "markdown",
      "metadata": {
        "id": "yodTAFuVexpc"
      },
      "source": [
        "### 3.2 「次の処理は例外によるエラーが発生しています。この例外をキャッチして、『例外が起きています』と表示してください。」"
      ]
    },
    {
      "cell_type": "code",
      "metadata": {
        "colab": {
          "base_uri": "https://localhost:8080/"
        },
        "id": "zxP80PlhfUs3",
        "outputId": "6e9a76b0-1f54-448e-984e-3347524698e0"
      },
      "source": [
        "# こちらのセルを実行してください。\n",
        "try:\n",
        "  a = '123' + 345\n",
        "  print(a)\n",
        "except TypeError:\n",
        "  print('例外が起きています')"
      ],
      "execution_count": null,
      "outputs": [
        {
          "output_type": "stream",
          "name": "stdout",
          "text": [
            "例外が起きています\n"
          ]
        }
      ]
    },
    {
      "cell_type": "code",
      "source": [],
      "metadata": {
        "id": "NBBdVAovV4SF"
      },
      "execution_count": null,
      "outputs": []
    }
  ]
}