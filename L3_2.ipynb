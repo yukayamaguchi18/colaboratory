{
  "nbformat": 4,
  "nbformat_minor": 0,
  "metadata": {
    "colab": {
      "provenance": [],
      "authorship_tag": "ABX9TyPvZVVvV9ndphGERCcHS9+0",
      "include_colab_link": true
    },
    "kernelspec": {
      "name": "python3",
      "display_name": "Python 3"
    },
    "language_info": {
      "name": "python"
    }
  },
  "cells": [
    {
      "cell_type": "markdown",
      "metadata": {
        "id": "view-in-github",
        "colab_type": "text"
      },
      "source": [
        "<a href=\"https://colab.research.google.com/github/yukayamaguchi18/colaboratory/blob/main/L3_2.ipynb\" target=\"_parent\"><img src=\"https://colab.research.google.com/assets/colab-badge.svg\" alt=\"Open In Colab\"/></a>"
      ]
    },
    {
      "cell_type": "code",
      "execution_count": 1,
      "metadata": {
        "colab": {
          "base_uri": "https://localhost:8080/"
        },
        "id": "tQ_t54hLiM6c",
        "outputId": "37921142-344d-4bc7-d37d-90b45ca6c7ce"
      },
      "outputs": [
        {
          "output_type": "stream",
          "name": "stdout",
          "text": [
            "150\n"
          ]
        }
      ],
      "source": [
        "apple = 150\n",
        "print(apple)"
      ]
    },
    {
      "cell_type": "code",
      "source": [
        "# 変数を用いずに計算していく場合\n",
        "print(150 + 300)\n",
        "print((150 + 300) / 2)"
      ],
      "metadata": {
        "colab": {
          "base_uri": "https://localhost:8080/"
        },
        "id": "wS_EiOG0icV2",
        "outputId": "602028bb-0837-4104-875f-e94ab47cc60c"
      },
      "execution_count": 2,
      "outputs": [
        {
          "output_type": "stream",
          "name": "stdout",
          "text": [
            "450\n",
            "225.0\n"
          ]
        }
      ]
    },
    {
      "cell_type": "code",
      "source": [
        "# 変数を用いて計算していく場合\n",
        "apple = 150\n",
        "grape = 300\n",
        "total = apple + grape\n",
        "print(total)\n",
        "print(total / 2)"
      ],
      "metadata": {
        "colab": {
          "base_uri": "https://localhost:8080/"
        },
        "id": "kdnNqJgQilid",
        "outputId": "3e7e2d89-cc8c-492a-e978-3c0949ea3bef"
      },
      "execution_count": 3,
      "outputs": [
        {
          "output_type": "stream",
          "name": "stdout",
          "text": [
            "450\n",
            "225.0\n"
          ]
        }
      ]
    },
    {
      "cell_type": "code",
      "source": [
        "# 数字型の加算\n",
        "a = 1\n",
        "b = 2.01\n",
        "print(a + b)"
      ],
      "metadata": {
        "colab": {
          "base_uri": "https://localhost:8080/"
        },
        "id": "yOSXS5hLk1wz",
        "outputId": "0d936f63-0392-40cb-ac92-a5ca79c852ee"
      },
      "execution_count": 4,
      "outputs": [
        {
          "output_type": "stream",
          "name": "stdout",
          "text": [
            "3.01\n"
          ]
        }
      ]
    },
    {
      "cell_type": "code",
      "source": [
        "# 数字型の減算\n",
        "a = 3\n",
        "b = 2\n",
        "print(a - b)"
      ],
      "metadata": {
        "colab": {
          "base_uri": "https://localhost:8080/"
        },
        "id": "LgZAvv6Tk4Y3",
        "outputId": "807b467a-f9be-4b37-9da8-49b908d299a5"
      },
      "execution_count": 5,
      "outputs": [
        {
          "output_type": "stream",
          "name": "stdout",
          "text": [
            "1\n"
          ]
        }
      ]
    },
    {
      "cell_type": "code",
      "source": [
        "# 数字型の乗算\n",
        "a = 2\n",
        "b = 1.03\n",
        "print(a * b)"
      ],
      "metadata": {
        "colab": {
          "base_uri": "https://localhost:8080/"
        },
        "id": "FUluJrGrk_dh",
        "outputId": "2fb3c17c-dbb4-4442-8b08-0da6b89e6888"
      },
      "execution_count": 6,
      "outputs": [
        {
          "output_type": "stream",
          "name": "stdout",
          "text": [
            "2.06\n"
          ]
        }
      ]
    },
    {
      "cell_type": "code",
      "source": [
        "# 数字型の除算\n",
        "a = 2\n",
        "b = 1\n",
        "print(a / b)"
      ],
      "metadata": {
        "colab": {
          "base_uri": "https://localhost:8080/"
        },
        "id": "CdC2BnN8lDg-",
        "outputId": "2e877216-5946-4b71-acc2-3a5200ad624e"
      },
      "execution_count": 7,
      "outputs": [
        {
          "output_type": "stream",
          "name": "stdout",
          "text": [
            "2.0\n"
          ]
        }
      ]
    },
    {
      "cell_type": "code",
      "source": [
        "# 数字型のべき乗\n",
        "a = 3\n",
        "b = 2\n",
        "print(a ** b)"
      ],
      "metadata": {
        "colab": {
          "base_uri": "https://localhost:8080/"
        },
        "id": "8xvv1lgNlU4u",
        "outputId": "77c2c3da-07a2-4850-8051-99ace181d157"
      },
      "execution_count": 8,
      "outputs": [
        {
          "output_type": "stream",
          "name": "stdout",
          "text": [
            "9\n"
          ]
        }
      ]
    },
    {
      "cell_type": "code",
      "source": [
        "# 数字型の切り捨て\n",
        "a = 5\n",
        "b = 2\n",
        "print(a // b)"
      ],
      "metadata": {
        "colab": {
          "base_uri": "https://localhost:8080/"
        },
        "id": "nzj-8QpOlz5e",
        "outputId": "d1f236b0-aeba-43af-9425-1972655bf062"
      },
      "execution_count": 9,
      "outputs": [
        {
          "output_type": "stream",
          "name": "stdout",
          "text": [
            "2\n"
          ]
        }
      ]
    },
    {
      "cell_type": "code",
      "source": [
        "# 数字型の余り\n",
        "a = 5\n",
        "b = 2\n",
        "print(a % b)"
      ],
      "metadata": {
        "colab": {
          "base_uri": "https://localhost:8080/"
        },
        "id": "YvZTOKksmRKi",
        "outputId": "508d384d-4cc4-4dbe-b41f-aa4823420d9f"
      },
      "execution_count": 10,
      "outputs": [
        {
          "output_type": "stream",
          "name": "stdout",
          "text": [
            "1\n"
          ]
        }
      ]
    },
    {
      "cell_type": "code",
      "source": [
        "# 文字列の加算\n",
        "a = 'WEB'\n",
        "b = 'CAMP'\n",
        "print(a + b)"
      ],
      "metadata": {
        "colab": {
          "base_uri": "https://localhost:8080/"
        },
        "id": "_fi8ZS95mbD3",
        "outputId": "978027de-7eaf-4442-ff4c-f3526744cd42"
      },
      "execution_count": 11,
      "outputs": [
        {
          "output_type": "stream",
          "name": "stdout",
          "text": [
            "WEBCAMP\n"
          ]
        }
      ]
    },
    {
      "cell_type": "code",
      "source": [
        "# 文字列の乗算\n",
        "\n",
        "a = 'car'\n",
        "b = 3\n",
        "print(a * b)"
      ],
      "metadata": {
        "colab": {
          "base_uri": "https://localhost:8080/"
        },
        "id": "PAtVNzq3mgBi",
        "outputId": "917299b1-3ded-4c4c-9163-a4456a9cc5e8"
      },
      "execution_count": 12,
      "outputs": [
        {
          "output_type": "stream",
          "name": "stdout",
          "text": [
            "carcarcar\n"
          ]
        }
      ]
    },
    {
      "cell_type": "code",
      "source": [
        "# 代入演算子を用いたコード\n",
        "\n",
        "a = 3\n",
        "b = 2\n",
        "a += b\n",
        "print(a)"
      ],
      "metadata": {
        "colab": {
          "base_uri": "https://localhost:8080/"
        },
        "id": "edbUwb7lnKO9",
        "outputId": "179fd787-1c8e-431a-a648-90bf54171e3e"
      },
      "execution_count": 13,
      "outputs": [
        {
          "output_type": "stream",
          "name": "stdout",
          "text": [
            "5\n"
          ]
        }
      ]
    },
    {
      "cell_type": "code",
      "source": [
        "# 空リストを作成する場合\n",
        "\n",
        "empty_list = []"
      ],
      "metadata": {
        "id": "93fJ_bZBn7N6"
      },
      "execution_count": 14,
      "outputs": []
    },
    {
      "cell_type": "code",
      "source": [
        "# データの入ったリストを作成する場合\n",
        "\n",
        "num_list = [80, '吾郎', 3.5]\n",
        "print(num_list)"
      ],
      "metadata": {
        "colab": {
          "base_uri": "https://localhost:8080/"
        },
        "id": "RahDfrTTn85T",
        "outputId": "1bedb109-6018-4880-d268-ed39ec59c1c6"
      },
      "execution_count": 15,
      "outputs": [
        {
          "output_type": "stream",
          "name": "stdout",
          "text": [
            "[80, '吾郎', 3.5]\n"
          ]
        }
      ]
    },
    {
      "cell_type": "code",
      "source": [
        "# リストに変数を代入\n",
        "choco_price = 100\n",
        "ice_price = 80\n",
        "cake_price = 300\n",
        "sweet_prices = [choco_price, ice_price, cake_price]\n",
        "print(sweet_prices)"
      ],
      "metadata": {
        "colab": {
          "base_uri": "https://localhost:8080/"
        },
        "id": "hrx1oYxroE0K",
        "outputId": "d008df21-abed-40d6-f434-d1f7765b3168"
      },
      "execution_count": 16,
      "outputs": [
        {
          "output_type": "stream",
          "name": "stdout",
          "text": [
            "[100, 80, 300]\n"
          ]
        }
      ]
    },
    {
      "cell_type": "code",
      "source": [
        "# リストからデータを取り出す\n",
        "n_list = [2, 1, 8, 3]\n",
        "print(n_list[3])"
      ],
      "metadata": {
        "colab": {
          "base_uri": "https://localhost:8080/"
        },
        "id": "31qLAVvmoVSB",
        "outputId": "d97637eb-4aa2-4ad7-c34f-d2cd59e22549"
      },
      "execution_count": 17,
      "outputs": [
        {
          "output_type": "stream",
          "name": "stdout",
          "text": [
            "3\n"
          ]
        }
      ]
    },
    {
      "cell_type": "code",
      "source": [
        "# リストをスライスで取り出す\n",
        "# インデックスが1から8のものを1つおきに取り出す\n",
        "n_list = [4, 8, 2, 1, '吾郎', 3, 9, 6, 3.8, 'k']\n",
        "print(n_list[1:8:2])"
      ],
      "metadata": {
        "colab": {
          "base_uri": "https://localhost:8080/"
        },
        "id": "szH7WIxPpFFi",
        "outputId": "d30cd327-3ffe-4fca-f41b-a20417602612"
      },
      "execution_count": 18,
      "outputs": [
        {
          "output_type": "stream",
          "name": "stdout",
          "text": [
            "[8, 1, 3, 6]\n"
          ]
        }
      ]
    },
    {
      "cell_type": "code",
      "source": [
        "# 開始を省略すると先頭から\n",
        "\n",
        "n_list = [4, 8, 2, 1, '吾郎']\n",
        "print(n_list[:3:2])"
      ],
      "metadata": {
        "colab": {
          "base_uri": "https://localhost:8080/"
        },
        "id": "je-L1sCtpwXQ",
        "outputId": "5f35f670-25ad-4249-f440-59deb446add7"
      },
      "execution_count": 19,
      "outputs": [
        {
          "output_type": "stream",
          "name": "stdout",
          "text": [
            "[4, 2]\n"
          ]
        }
      ]
    },
    {
      "cell_type": "code",
      "source": [
        "# 終了を省略すると末端まで\n",
        "\n",
        "n_list = [4, 8, 2, 1, '吾郎']\n",
        "print(n_list[2::2])"
      ],
      "metadata": {
        "colab": {
          "base_uri": "https://localhost:8080/"
        },
        "id": "C5hrufNbqCFG",
        "outputId": "d240176d-3d30-482c-c53b-5e91eef9e9b2"
      },
      "execution_count": 20,
      "outputs": [
        {
          "output_type": "stream",
          "name": "stdout",
          "text": [
            "[2, '吾郎']\n"
          ]
        }
      ]
    },
    {
      "cell_type": "code",
      "source": [
        "# 増分を省略すると一つずつ\n",
        "\n",
        "n_list = [4, 8, 2, 1, '吾郎']\n",
        "print(n_list[1:4])"
      ],
      "metadata": {
        "colab": {
          "base_uri": "https://localhost:8080/"
        },
        "id": "foIDQT1CqHMp",
        "outputId": "bbdd0a97-03f6-4ec7-c90f-704170258ccd"
      },
      "execution_count": 21,
      "outputs": [
        {
          "output_type": "stream",
          "name": "stdout",
          "text": [
            "[8, 2, 1]\n"
          ]
        }
      ]
    },
    {
      "cell_type": "code",
      "source": [
        "# すべて表示\n",
        "n_list = [4, 8, 2, 1, '吾郎']\n",
        "print(n_list[:])"
      ],
      "metadata": {
        "colab": {
          "base_uri": "https://localhost:8080/"
        },
        "id": "8RUsO7sNqYO5",
        "outputId": "6decf874-e5c2-4acb-fc72-69c16f2618d7"
      },
      "execution_count": 22,
      "outputs": [
        {
          "output_type": "stream",
          "name": "stdout",
          "text": [
            "[4, 8, 2, 1, '吾郎']\n"
          ]
        }
      ]
    },
    {
      "cell_type": "code",
      "source": [
        "# リストの要素の変更\n",
        "\n",
        "n_list = [2, 1, 8, 3]\n",
        "n_list[1] = 100\n",
        "print(n_list)"
      ],
      "metadata": {
        "colab": {
          "base_uri": "https://localhost:8080/"
        },
        "id": "Nku9hceYqtN7",
        "outputId": "ba7d62ab-5e13-4141-def8-22c05a50497f"
      },
      "execution_count": 23,
      "outputs": [
        {
          "output_type": "stream",
          "name": "stdout",
          "text": [
            "[2, 100, 8, 3]\n"
          ]
        }
      ]
    },
    {
      "cell_type": "code",
      "source": [
        "# リストの要素の追加\n",
        "\n",
        "n_list = [2, 1, 8, 3]\n",
        "n_list.append(100)\n",
        "print(n_list)"
      ],
      "metadata": {
        "colab": {
          "base_uri": "https://localhost:8080/"
        },
        "id": "TO5Q6upZqzPd",
        "outputId": "e4c091d7-0de9-4d48-b766-c128dce28ffc"
      },
      "execution_count": 24,
      "outputs": [
        {
          "output_type": "stream",
          "name": "stdout",
          "text": [
            "[2, 1, 8, 3, 100]\n"
          ]
        }
      ]
    },
    {
      "cell_type": "code",
      "source": [
        "# リスト同士の結合\n",
        "a_list = [3, '吾郎', 1.5, 9]\n",
        "b_list = [5, 2.7, '次郎', 2]\n",
        "new_list = a_list + b_list\n",
        "print(new_list)"
      ],
      "metadata": {
        "colab": {
          "base_uri": "https://localhost:8080/"
        },
        "id": "Ngdiexzmq47n",
        "outputId": "12298e38-d52b-40e5-9e0a-290288833de5"
      },
      "execution_count": 25,
      "outputs": [
        {
          "output_type": "stream",
          "name": "stdout",
          "text": [
            "[3, '吾郎', 1.5, 9, 5, 2.7, '次郎', 2]\n"
          ]
        }
      ]
    },
    {
      "cell_type": "code",
      "source": [
        "# 代入演算子を使ってリストを結合\n",
        "a_list = [3, '吾郎', 1.5, 9]\n",
        "b_list = [5, 2.7, '次郎', 2]\n",
        "a_list += b_list\n",
        "print(a_list)"
      ],
      "metadata": {
        "colab": {
          "base_uri": "https://localhost:8080/"
        },
        "id": "qajRt8Q7rQA_",
        "outputId": "7ebce886-0525-4766-bc20-db8905f7b536"
      },
      "execution_count": 26,
      "outputs": [
        {
          "output_type": "stream",
          "name": "stdout",
          "text": [
            "[3, '吾郎', 1.5, 9, 5, 2.7, '次郎', 2]\n"
          ]
        }
      ]
    },
    {
      "cell_type": "code",
      "source": [
        "# インデックスを指定してリストの要素を削除\n",
        "\n",
        "n_list = [2, 1, 8, 3]\n",
        "del n_list[1]\n",
        "print(n_list)"
      ],
      "metadata": {
        "colab": {
          "base_uri": "https://localhost:8080/"
        },
        "id": "wNQzKMJgrasd",
        "outputId": "df3e3d0f-94ec-415a-d319-7bfe928f3a82"
      },
      "execution_count": 27,
      "outputs": [
        {
          "output_type": "stream",
          "name": "stdout",
          "text": [
            "[2, 8, 3]\n"
          ]
        }
      ]
    },
    {
      "cell_type": "code",
      "source": [
        "# 要素を指定してリストの要素を削除\n",
        "# removeを使用する場合、削除する要素がリスト内に複数あると、\n",
        "# 最初に現れる要素しか削除されない\n",
        "n_list = [2, 1, 8, 3]\n",
        "n_list.remove(2)\n",
        "print(n_list)"
      ],
      "metadata": {
        "colab": {
          "base_uri": "https://localhost:8080/"
        },
        "id": "jDJZ22dPreTp",
        "outputId": "78ae7a5d-5d54-4c28-9647-78fe09779fdc"
      },
      "execution_count": 28,
      "outputs": [
        {
          "output_type": "stream",
          "name": "stdout",
          "text": [
            "[1, 8, 3]\n"
          ]
        }
      ]
    },
    {
      "cell_type": "code",
      "source": [
        "# リストの要素のソート①（昇順）\n",
        "\n",
        "n_list = [2, 1, 8, 3]\n",
        "n_list.sort()\n",
        "print(n_list)"
      ],
      "metadata": {
        "colab": {
          "base_uri": "https://localhost:8080/"
        },
        "id": "LHSnVDSjzcOv",
        "outputId": "d34fe6bc-d1f4-49e1-dd92-5d6ebc8c4279"
      },
      "execution_count": 29,
      "outputs": [
        {
          "output_type": "stream",
          "name": "stdout",
          "text": [
            "[1, 2, 3, 8]\n"
          ]
        }
      ]
    },
    {
      "cell_type": "code",
      "source": [
        "# リストの要素のソート②（降順）\n",
        "\n",
        "n_list = [2, 1, 8, 3]\n",
        "n_list.sort(reverse=True)\n",
        "print(n_list)"
      ],
      "metadata": {
        "colab": {
          "base_uri": "https://localhost:8080/"
        },
        "id": "OVR42HbgzfzC",
        "outputId": "5dc4cfdf-f4ee-44ad-9a2c-2f8be3454789"
      },
      "execution_count": 30,
      "outputs": [
        {
          "output_type": "stream",
          "name": "stdout",
          "text": [
            "[8, 3, 2, 1]\n"
          ]
        }
      ]
    },
    {
      "cell_type": "code",
      "source": [
        "# リストへの要素の挿入\n",
        "\n",
        "n_list = [2, 1, 8, 3]\n",
        "n_list.insert(0, '吾郎')\n",
        "print(n_list)"
      ],
      "metadata": {
        "colab": {
          "base_uri": "https://localhost:8080/"
        },
        "id": "ShKgf_QB3pHr",
        "outputId": "fcb84059-b323-49a7-cdc9-255d371d8783"
      },
      "execution_count": 31,
      "outputs": [
        {
          "output_type": "stream",
          "name": "stdout",
          "text": [
            "['吾郎', 2, 1, 8, 3]\n"
          ]
        }
      ]
    },
    {
      "cell_type": "code",
      "source": [
        "# リストの要素の逆転\n",
        "\n",
        "n_list = [2, 1, 8, 3]\n",
        "n_list.reverse()\n",
        "print(n_list)"
      ],
      "metadata": {
        "colab": {
          "base_uri": "https://localhost:8080/"
        },
        "id": "A64F8AZp3rmd",
        "outputId": "81e3e5d4-35ff-4630-d7bf-ddff14eceb69"
      },
      "execution_count": 32,
      "outputs": [
        {
          "output_type": "stream",
          "name": "stdout",
          "text": [
            "[3, 8, 1, 2]\n"
          ]
        }
      ]
    },
    {
      "cell_type": "code",
      "source": [
        "# 辞書型データ\n",
        "n_dict = {'田中': '太郎', '年齢': 20, 2: '次郎'}"
      ],
      "metadata": {
        "id": "fjHtdJrc4qhE"
      },
      "execution_count": 33,
      "outputs": []
    },
    {
      "cell_type": "code",
      "source": [
        "# データの入った辞書を作成する場合\n",
        "\n",
        "num_dict = {'りんご': 100, 'みかん': 120, 160: '梨'}"
      ],
      "metadata": {
        "id": "quLAQJqV4zKW"
      },
      "execution_count": 34,
      "outputs": []
    },
    {
      "cell_type": "code",
      "source": [
        "# 空の辞書を作成する場合\n",
        "\n",
        "empty_dict = {}"
      ],
      "metadata": {
        "id": "4gIAQgex42dK"
      },
      "execution_count": 35,
      "outputs": []
    },
    {
      "cell_type": "code",
      "source": [
        "# キーでバリューを取り出す\n",
        "num_dict = {'りんご': 100, 'みかん': 120, 160: '梨'}\n",
        "print(num_dict['りんご'])"
      ],
      "metadata": {
        "colab": {
          "base_uri": "https://localhost:8080/"
        },
        "id": "dTynCbkp7Dyk",
        "outputId": "07a707e7-6edf-4970-db80-f2e504d1c6b0"
      },
      "execution_count": 36,
      "outputs": [
        {
          "output_type": "stream",
          "name": "stdout",
          "text": [
            "100\n"
          ]
        }
      ]
    },
    {
      "cell_type": "code",
      "source": [
        "# 辞書の要素の変更\n",
        "\n",
        "num_dict = {'りんご': 100, 'みかん': 120, 160: '梨'}\n",
        "num_dict['りんご'] = 80\n",
        "print(num_dict)"
      ],
      "metadata": {
        "colab": {
          "base_uri": "https://localhost:8080/"
        },
        "id": "V9-Zo8iL7Ies",
        "outputId": "7b1533fa-547b-44c2-d396-054c4e81c0dc"
      },
      "execution_count": 37,
      "outputs": [
        {
          "output_type": "stream",
          "name": "stdout",
          "text": [
            "{'りんご': 80, 'みかん': 120, 160: '梨'}\n"
          ]
        }
      ]
    },
    {
      "cell_type": "code",
      "source": [
        "# 辞書の要素の追加\n",
        "\n",
        "num_dict = {'りんご': 100, 'みかん': 120, 160: '梨'}\n",
        "num_dict['桃'] = 120\n",
        "print(num_dict)"
      ],
      "metadata": {
        "colab": {
          "base_uri": "https://localhost:8080/"
        },
        "id": "31rrNINh7Jw_",
        "outputId": "baf27d33-c35a-427c-f666-f1a534094c24"
      },
      "execution_count": 38,
      "outputs": [
        {
          "output_type": "stream",
          "name": "stdout",
          "text": [
            "{'りんご': 100, 'みかん': 120, 160: '梨', '桃': 120}\n"
          ]
        }
      ]
    },
    {
      "cell_type": "code",
      "source": [
        "# タプル型\n",
        "n_tuple = (3, 4, 5)\n",
        "print(n_tuple[0])\n",
        "# タプル型のスライス\n",
        "n_tuple = (3, 4, 5, 1, 7, 8)\n",
        "print(n_tuple[1:5:2])"
      ],
      "metadata": {
        "colab": {
          "base_uri": "https://localhost:8080/"
        },
        "id": "IgrzWCTe7XhA",
        "outputId": "3a1f5633-da7d-46e9-92a3-18f9475bab7a"
      },
      "execution_count": 39,
      "outputs": [
        {
          "output_type": "stream",
          "name": "stdout",
          "text": [
            "3\n",
            "(4, 1)\n"
          ]
        }
      ]
    },
    {
      "cell_type": "markdown",
      "source": [
        "タプル型はデータの変更・追加・削除ができない、リストではできる\n",
        "辞書型のキーとして代入できる、リストではできない"
      ],
      "metadata": {
        "id": "90I10UaU9Q7I"
      }
    },
    {
      "cell_type": "markdown",
      "source": [
        "セット型はデータの集合関係\n",
        "ひとつのセットに重複した値を持たない\n",
        "順序やインデックスの概念はない\n",
        "数学的な集合として和集合等の演算ができる"
      ],
      "metadata": {
        "id": "t_Ya5jRm9x0-"
      }
    },
    {
      "cell_type": "code",
      "source": [
        "# データの入ったセットを作成する場合\n",
        "\n",
        "n_set = {3, '吾郎', 2.5}\n",
        "print(n_set)\n",
        "# set型に順番はなく、画像の順番で要素が表示されるわけではありません。"
      ],
      "metadata": {
        "colab": {
          "base_uri": "https://localhost:8080/"
        },
        "id": "vTnkI4pA9o-Z",
        "outputId": "9bda7def-1305-450b-d5fe-5db1c0c888bb"
      },
      "execution_count": 40,
      "outputs": [
        {
          "output_type": "stream",
          "name": "stdout",
          "text": [
            "{'吾郎', 2.5, 3}\n"
          ]
        }
      ]
    },
    {
      "cell_type": "code",
      "source": [
        "# 空のセットを作成する場合\n",
        "\n",
        "empty_set = set()"
      ],
      "metadata": {
        "id": "2S4jEce2-anm"
      },
      "execution_count": 41,
      "outputs": []
    }
  ]
}