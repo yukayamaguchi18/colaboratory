{
  "nbformat": 4,
  "nbformat_minor": 0,
  "metadata": {
    "colab": {
      "provenance": [],
      "collapsed_sections": [
        "wcFT_1J5QDzb",
        "U6mUNOfiQkk6",
        "rJNEILhmRJlt",
        "MYPJiC49R2Ei",
        "GlDFeDPVdV_8",
        "X29KsoyLd1Po",
        "ujJSty-qQVxZ",
        "zfB5gwm2giNg",
        "iNY_mVnvhHqY",
        "8TGanMktlQBh"
      ],
      "include_colab_link": true
    },
    "kernelspec": {
      "name": "python3",
      "display_name": "Python 3"
    },
    "language_info": {
      "name": "python"
    }
  },
  "cells": [
    {
      "cell_type": "markdown",
      "metadata": {
        "id": "view-in-github",
        "colab_type": "text"
      },
      "source": [
        "<a href=\"https://colab.research.google.com/github/yukayamaguchi18/colaboratory/blob/main/L3_2_editor.ipynb\" target=\"_parent\"><img src=\"https://colab.research.google.com/assets/colab-badge.svg\" alt=\"Open In Colab\"/></a>"
      ]
    },
    {
      "cell_type": "markdown",
      "metadata": {
        "id": "S_DoQU-fHO3H"
      },
      "source": [
        "# 変数 exercises\n",
        "\n",
        "\n",
        "1. 変数の四則演算について学習します。（3問）\n",
        "2. リストについて学習します。 (4問)\n",
        "3. 辞書について学習します。　(3問)\n",
        "4. タプル・セットについて学習します。　(4問)\n",
        "\n",
        "**解答は参考例なので、コードが完全一致している必要はありません。**"
      ]
    },
    {
      "cell_type": "markdown",
      "source": [
        "**<font color=\"red\">このファイルは、コピーして自分のドライブに保存しなければ、編集が保存されず、課題を提出できません。</font>**\n",
        "\n",
        "**<font color=\"red\">もしまだコピーしていなければ、「事前準備」レッスンの「Chapter 2\n",
        "演習問題、提出課題について」を参考にしながら、左上の「ファイル」から「ドライブにコピーを保存」を選択して、必ずコピーを保存してください。</font>**"
      ],
      "metadata": {
        "id": "qjkIT5Jf0kJF"
      }
    },
    {
      "cell_type": "markdown",
      "metadata": {
        "id": "wcFT_1J5QDzb"
      },
      "source": [
        "## 1. 変数の四則演算について学習します。　(3問)"
      ]
    },
    {
      "cell_type": "markdown",
      "metadata": {
        "id": "U6mUNOfiQkk6"
      },
      "source": [
        "### 1.1 「$14+28 - 5 \\times 2$の計算結果を変数に代入して、表示してください。」"
      ]
    },
    {
      "cell_type": "markdown",
      "source": [],
      "metadata": {
        "id": "G2oNA_ZBdaX_"
      }
    },
    {
      "cell_type": "code",
      "source": [
        "a = 14 + 28 - 5 * 2\n",
        "print(a)"
      ],
      "metadata": {
        "id": "5NjLlFtndaBH",
        "colab": {
          "base_uri": "https://localhost:8080/"
        },
        "outputId": "537527e7-5a2a-4d8d-f404-6f7adb9a2a12"
      },
      "execution_count": 1,
      "outputs": [
        {
          "output_type": "stream",
          "name": "stdout",
          "text": [
            "32\n"
          ]
        }
      ]
    },
    {
      "cell_type": "code",
      "source": [],
      "metadata": {
        "id": "XiZn6lezEDxN"
      },
      "execution_count": null,
      "outputs": []
    },
    {
      "cell_type": "markdown",
      "metadata": {
        "id": "rJNEILhmRJlt"
      },
      "source": [
        "### 1.2 「$12$の$3$乗を$13$で割った結果の整数部分を変数に代入して、表示してください。」"
      ]
    },
    {
      "cell_type": "code",
      "source": [
        "a = 12 ** 3 // 13\n",
        "print(a)"
      ],
      "metadata": {
        "id": "C4mR2jyDEEGg",
        "colab": {
          "base_uri": "https://localhost:8080/"
        },
        "outputId": "c772cd5f-60bc-4b4d-83bb-3d9cc636bc98"
      },
      "execution_count": 6,
      "outputs": [
        {
          "output_type": "stream",
          "name": "stdout",
          "text": [
            "132\n"
          ]
        }
      ]
    },
    {
      "cell_type": "markdown",
      "metadata": {
        "id": "MYPJiC49R2Ei"
      },
      "source": [
        "### 1.3 「$12 \\times 18 +138$を$7$で割った余りを変数に代入して、表示してください。」"
      ]
    },
    {
      "cell_type": "code",
      "source": [
        "a = (12 * 18 + 138) % 7\n",
        "print(a)"
      ],
      "metadata": {
        "id": "MiBEvTkVEEfx",
        "colab": {
          "base_uri": "https://localhost:8080/"
        },
        "outputId": "9c011b0d-25cd-4de2-82f8-6e918c3b5a13"
      },
      "execution_count": 7,
      "outputs": [
        {
          "output_type": "stream",
          "name": "stdout",
          "text": [
            "4\n"
          ]
        }
      ]
    },
    {
      "cell_type": "markdown",
      "metadata": {
        "id": "IGA0sd68QOVe"
      },
      "source": [
        "##2. リストについて学習します。 (4問)\n"
      ]
    },
    {
      "cell_type": "markdown",
      "metadata": {
        "id": "GlDFeDPVdV_8"
      },
      "source": [
        "### 2.1 「list_1の中でインデックスが2の要素を変数に代入して、表示してください。」"
      ]
    },
    {
      "cell_type": "code",
      "metadata": {
        "id": "1tPMcvY6deF0",
        "colab": {
          "base_uri": "https://localhost:8080/"
        },
        "outputId": "4bec57c5-7c7a-406f-cbd3-77fe3cb7dc11"
      },
      "source": [
        "# こちらのセルを実行してください\n",
        "list_1 = [3.5, '次郎', 4, 'ネコ', 13, 0.3]\n",
        "a = list_1[2]\n",
        "print(a)"
      ],
      "execution_count": 8,
      "outputs": [
        {
          "output_type": "stream",
          "name": "stdout",
          "text": [
            "4\n"
          ]
        }
      ]
    },
    {
      "cell_type": "markdown",
      "metadata": {
        "id": "koqdiZNQTRp8"
      },
      "source": [
        "### 2.2 「list_2の中でインデックスが1から3の要素をスライスして変数に代入し、表示してください。」"
      ]
    },
    {
      "cell_type": "code",
      "metadata": {
        "id": "QgYOrHbNQQIu",
        "colab": {
          "base_uri": "https://localhost:8080/"
        },
        "outputId": "71fb7a4e-3603-419f-f09e-4fd4659af790"
      },
      "source": [
        "# こちらのセルを実行してください\n",
        "list_2 = [3.5, '次郎', 4, 'ネコ', 13, 0.3]\n",
        "a = list_2[1:3]\n",
        "print(a)"
      ],
      "execution_count": 9,
      "outputs": [
        {
          "output_type": "stream",
          "name": "stdout",
          "text": [
            "['次郎', 4]\n"
          ]
        }
      ]
    },
    {
      "cell_type": "markdown",
      "metadata": {
        "id": "X29KsoyLd1Po"
      },
      "source": [
        "### 2.3 「list_3の要素の『次郎』を『太郎』に変更して、変更後のlist_3を表示してください。」"
      ]
    },
    {
      "cell_type": "code",
      "metadata": {
        "id": "_eGj0WOMeLQ5",
        "colab": {
          "base_uri": "https://localhost:8080/"
        },
        "outputId": "38cabc1a-0398-491e-a190-61dca2aeaac5"
      },
      "source": [
        "# こちらのセルを実行してください\n",
        "list_3 = [3.5, '次郎', 4, 'ネコ', 13, 0.3]\n",
        "list_3[1] = '太郎'\n",
        "print(list_3)"
      ],
      "execution_count": 10,
      "outputs": [
        {
          "output_type": "stream",
          "name": "stdout",
          "text": [
            "[3.5, '太郎', 4, 'ネコ', 13, 0.3]\n"
          ]
        }
      ]
    },
    {
      "cell_type": "markdown",
      "metadata": {
        "id": "ocLGxzOTeiAR"
      },
      "source": [
        "### 2.4 「list_4から『次郎』と『ネコ』を削除して、その後降順にソートした後のlist_4を表示してください。」"
      ]
    },
    {
      "cell_type": "code",
      "metadata": {
        "id": "EAQyzSzfe5ts",
        "colab": {
          "base_uri": "https://localhost:8080/"
        },
        "outputId": "af1c68ee-e593-484c-c425-f167940420fb"
      },
      "source": [
        "# こちらのセルを実行してください\n",
        "list_4 = [3.5, '次郎', 4, 'ネコ', 13, 0.3]\n",
        "del list_4[1]\n",
        "del list_4[2]\n",
        "print(list_4)"
      ],
      "execution_count": 12,
      "outputs": [
        {
          "output_type": "stream",
          "name": "stdout",
          "text": [
            "[3.5, 4, 13, 0.3]\n"
          ]
        }
      ]
    },
    {
      "cell_type": "markdown",
      "metadata": {
        "id": "aziyHOQsQQqw"
      },
      "source": [
        "\n",
        "## 3. 辞書について学習します。　(3問)"
      ]
    },
    {
      "cell_type": "markdown",
      "metadata": {
        "id": "ujJSty-qQVxZ"
      },
      "source": [
        "### 3.1「『太郎』『次郎』という2つのキーに対して、整数型の『18』『16』がそれぞれバリューとなる辞書を、変数に代入して表示してください。」"
      ]
    },
    {
      "cell_type": "code",
      "source": [
        "a = {'太郎':18, '次郎':16}\n",
        "print(a)"
      ],
      "metadata": {
        "id": "0CovT4wiEFJG",
        "colab": {
          "base_uri": "https://localhost:8080/"
        },
        "outputId": "35bc3841-9d6e-4067-ec89-d83634578a21"
      },
      "execution_count": 15,
      "outputs": [
        {
          "output_type": "stream",
          "name": "stdout",
          "text": [
            "{'太郎': 18, '次郎': 16}\n"
          ]
        }
      ]
    },
    {
      "cell_type": "markdown",
      "metadata": {
        "id": "zfB5gwm2giNg"
      },
      "source": [
        "### 3.2 「先ほどの辞書に、『三郎』というキーに対して整数型の『12』をバリューに持つ要素を追加して表示してください。」"
      ]
    },
    {
      "cell_type": "code",
      "metadata": {
        "id": "IQiqH9T2g6i7",
        "colab": {
          "base_uri": "https://localhost:8080/"
        },
        "outputId": "76363e9b-e548-4583-ea65-cf92ab3f158f"
      },
      "source": [
        "# こちらのセルを実行してください\n",
        "answer_dict = {'太郎': 18, '次郎': 16}\n",
        "answer_dict['三郎'] = 12\n",
        "print(answer_dict)"
      ],
      "execution_count": 17,
      "outputs": [
        {
          "output_type": "stream",
          "name": "stdout",
          "text": [
            "{'太郎': 18, '次郎': 16, '三郎': 12}\n"
          ]
        }
      ]
    },
    {
      "cell_type": "markdown",
      "metadata": {
        "id": "iNY_mVnvhHqY"
      },
      "source": [
        "### 3.3 「先ほどの辞書は、実は名前と年齢が対応していました。それでは、『次郎』の年齢を取り出して変数に代入して表示してください。」"
      ]
    },
    {
      "cell_type": "code",
      "metadata": {
        "id": "ydesnzyJhdTE",
        "colab": {
          "base_uri": "https://localhost:8080/"
        },
        "outputId": "12b8baf2-70e1-4e64-9baf-ab3b8c91d106"
      },
      "source": [
        "# こちらのセルを実行してください\n",
        "answer_dict = {'太郎': 18, '次郎': 16, '三郎': 12}\n",
        "a = answer_dict['次郎']\n",
        "print(a)"
      ],
      "execution_count": 18,
      "outputs": [
        {
          "output_type": "stream",
          "name": "stdout",
          "text": [
            "16\n"
          ]
        }
      ]
    },
    {
      "cell_type": "markdown",
      "metadata": {
        "id": "8yNH601ylKgg"
      },
      "source": [
        "### 4. タプル・セットについて学習します。　(4問)"
      ]
    },
    {
      "cell_type": "markdown",
      "metadata": {
        "id": "8TGanMktlQBh"
      },
      "source": [
        "### 4.1 「tuple_1から、インデックスが3であるものを変数に代入して表示してください。」"
      ]
    },
    {
      "cell_type": "code",
      "metadata": {
        "id": "6VppM4FQlPRD",
        "colab": {
          "base_uri": "https://localhost:8080/"
        },
        "outputId": "be4f3e73-e89c-4c1d-f025-f8ffd6003f5e"
      },
      "source": [
        "# こちらのセルを実行してください。\n",
        "tuple_1 = (3, '次郎', 8, 0.3, 'イヌ')\n",
        "a = tuple_1[3]\n",
        "print(a)"
      ],
      "execution_count": 19,
      "outputs": [
        {
          "output_type": "stream",
          "name": "stdout",
          "text": [
            "0.3\n"
          ]
        }
      ]
    },
    {
      "cell_type": "markdown",
      "metadata": {
        "id": "Qyj_uRxUlS99"
      },
      "source": [
        "### 4.2 「tuple_2の先頭からインデックスが3のものまでをスライスして、変数に代入して表示してください。」"
      ]
    },
    {
      "cell_type": "code",
      "metadata": {
        "id": "43XVn-eklUFs",
        "colab": {
          "base_uri": "https://localhost:8080/"
        },
        "outputId": "c4b78689-c7a9-4ee2-d391-9fd7057489f0"
      },
      "source": [
        "# こちらのセルを実行してください\n",
        "tuple_2 = (3, '次郎', 8, 0.3, 'イヌ')\n",
        "a = tuple_2[:3]\n",
        "print(a)"
      ],
      "execution_count": 20,
      "outputs": [
        {
          "output_type": "stream",
          "name": "stdout",
          "text": [
            "(3, '次郎', 8)\n"
          ]
        }
      ]
    },
    {
      "cell_type": "markdown",
      "metadata": {
        "id": "X13nt_K2lUfj"
      },
      "source": [
        "### 4.3 「tuple_3と同じ要素を持つセットを作成して、変数に代入して表示してください。」"
      ]
    },
    {
      "cell_type": "code",
      "metadata": {
        "id": "cYpHL7aym4He",
        "colab": {
          "base_uri": "https://localhost:8080/"
        },
        "outputId": "40695f49-a325-40e0-fcf7-d22f77d19cf7"
      },
      "source": [
        "# こちらのセルを実行してください\n",
        "tuple_3 = (3, '次郎', 8, 0.3, 'イヌ')\n",
        "set = tuple_3\n",
        "print(set)"
      ],
      "execution_count": 21,
      "outputs": [
        {
          "output_type": "stream",
          "name": "stdout",
          "text": [
            "(3, '次郎', 8, 0.3, 'イヌ')\n"
          ]
        }
      ]
    }
  ]
}