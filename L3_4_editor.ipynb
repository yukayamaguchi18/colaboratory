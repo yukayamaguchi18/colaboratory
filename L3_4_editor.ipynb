{
  "nbformat": 4,
  "nbformat_minor": 0,
  "metadata": {
    "colab": {
      "provenance": [],
      "collapsed_sections": [
        "U6mUNOfiQkk6",
        "koqdiZNQTRp8",
        "X29KsoyLd1Po",
        "ocLGxzOTeiAR",
        "GlDFeDPVdV_8",
        "ujJSty-qQVxZ",
        "zfB5gwm2giNg",
        "iNY_mVnvhHqY",
        "8TGanMktlQBh",
        "2ig_ECUgbrcl",
        "Qyj_uRxUlS99"
      ],
      "include_colab_link": true
    },
    "kernelspec": {
      "name": "python3",
      "display_name": "Python 3"
    },
    "language_info": {
      "name": "python"
    }
  },
  "cells": [
    {
      "cell_type": "markdown",
      "metadata": {
        "id": "view-in-github",
        "colab_type": "text"
      },
      "source": [
        "<a href=\"https://colab.research.google.com/github/yukayamaguchi18/colaboratory/blob/main/L3_4_editor.ipynb\" target=\"_parent\"><img src=\"https://colab.research.google.com/assets/colab-badge.svg\" alt=\"Open In Colab\"/></a>"
      ]
    },
    {
      "cell_type": "markdown",
      "metadata": {
        "id": "S_DoQU-fHO3H"
      },
      "source": [
        "# 関数・クラス exercises\n",
        "\n",
        "\n",
        "1. 組み込み関数について学習します。 （1問）\n",
        "2. 関数について学習します。 (4問)\n",
        "3. クラスについて学習します。　(3問)\n",
        "4. クラスの継承について学習します。　(2問)\n",
        "\n",
        "**解答は参考例なので、コードが完全一致している必要はありません。**"
      ]
    },
    {
      "cell_type": "markdown",
      "source": [
        "**<font color=\"red\">このファイルは、コピーして自分のドライブに保存しなければ、編集が保存されず、課題を提出できません。</font>**\n",
        "\n",
        "**<font color=\"red\">もしまだコピーしていなければ、「事前準備」レッスンの「Chapter 2\n",
        "演習問題、提出課題について」を参考にしながら、左上の「ファイル」から「ドライブにコピーを保存」を選択して、必ずコピーを保存してください。</font>**"
      ],
      "metadata": {
        "id": "TO2n4Q800VNX"
      }
    },
    {
      "cell_type": "markdown",
      "metadata": {
        "id": "wcFT_1J5QDzb"
      },
      "source": [
        "## 1. 組み込み関数について学習します。 （1問）"
      ]
    },
    {
      "cell_type": "markdown",
      "metadata": {
        "id": "U6mUNOfiQkk6"
      },
      "source": [
        "### 1.1 「次のn_listの要素数を表示してください。」"
      ]
    },
    {
      "cell_type": "code",
      "source": [
        "# こちらのセルを実行してください。\n",
        "n_list = [1, 6, 2, 6, 9]\n",
        "print(len(n_list))"
      ],
      "metadata": {
        "id": "QMLZWwjxWDsu",
        "colab": {
          "base_uri": "https://localhost:8080/"
        },
        "outputId": "537ef909-1560-4a3a-d6c5-901da58e2d78"
      },
      "execution_count": null,
      "outputs": [
        {
          "output_type": "stream",
          "name": "stdout",
          "text": [
            "5\n"
          ]
        }
      ]
    },
    {
      "cell_type": "code",
      "source": [],
      "metadata": {
        "id": "muXn3aFjXORS"
      },
      "execution_count": null,
      "outputs": []
    },
    {
      "cell_type": "markdown",
      "metadata": {
        "id": "IGA0sd68QOVe"
      },
      "source": [
        "##2. 関数について学習します。 (4問)\n"
      ]
    },
    {
      "cell_type": "markdown",
      "metadata": {
        "id": "koqdiZNQTRp8"
      },
      "source": [
        "### 2.1 「引数や戻り値はなく、『こんにちは！』と表示する関数を定義し、その関数を呼び出してください。」"
      ]
    },
    {
      "cell_type": "code",
      "metadata": {
        "id": "2d_LQVgITaDU",
        "colab": {
          "base_uri": "https://localhost:8080/"
        },
        "outputId": "fa3f21b0-f5cf-48f1-d2ac-60ce411ea63c"
      },
      "source": [
        "def hello():\n",
        "  print('こんにちは！')\n",
        "\n",
        "hello()"
      ],
      "execution_count": null,
      "outputs": [
        {
          "output_type": "stream",
          "name": "stdout",
          "text": [
            "こんにちは！\n"
          ]
        }
      ]
    },
    {
      "cell_type": "markdown",
      "metadata": {
        "id": "X29KsoyLd1Po"
      },
      "source": [
        "### 2.2 「文字列型の引数を2つ持ち、引数に与えられた2つの文字列を結合した文字列を表示する関数を定義し、引数に、『こんにちは、』『いい天気ですね』という２つの文字列を代入してその関数を呼び出してください。」"
      ]
    },
    {
      "cell_type": "code",
      "metadata": {
        "id": "UbyPktS_TkWI",
        "colab": {
          "base_uri": "https://localhost:8080/"
        },
        "outputId": "aece701c-6c05-4a76-b39f-86c2186a8423"
      },
      "source": [
        "def greeting(a, b):\n",
        "  print(a + b)\n",
        "\n",
        "a = 'こんいちは、'\n",
        "b = 'いい天気ですね'\n",
        "\n",
        "greeting(a, b)"
      ],
      "execution_count": null,
      "outputs": [
        {
          "output_type": "stream",
          "name": "stdout",
          "text": [
            "こんいちは、いい天気ですね\n"
          ]
        }
      ]
    },
    {
      "cell_type": "markdown",
      "metadata": {
        "id": "ocLGxzOTeiAR"
      },
      "source": [
        "### 2.3 「数字型の引数を2つ持ち、引数に与えられた2つの数字を足した値を戻り値として返す関数を定義し、『17.3』『16.8』という2つの数字を引数に入れた戻り値を変数に代入して、表示してください。」"
      ]
    },
    {
      "cell_type": "code",
      "metadata": {
        "id": "EAQyzSzfe5ts",
        "colab": {
          "base_uri": "https://localhost:8080/"
        },
        "outputId": "e53385c8-d2e8-4307-9569-f150d596087c"
      },
      "source": [
        "def add_num(a, b):\n",
        "  return a + b\n",
        "\n",
        "a = 17.3\n",
        "b = 16.8\n",
        "\n",
        "print(add_num(a, b))"
      ],
      "execution_count": null,
      "outputs": [
        {
          "output_type": "stream",
          "name": "stdout",
          "text": [
            "34.1\n"
          ]
        }
      ]
    },
    {
      "cell_type": "markdown",
      "metadata": {
        "id": "GlDFeDPVdV_8"
      },
      "source": [
        "### 2.4 「整数型の変数を格納したlist型の変数を1つ引数に持ち、引数の要素すべての値の和を戻り値とするような関数を定義し、list_1の要素の合計を変数に代入して表示してください。」"
      ]
    },
    {
      "cell_type": "code",
      "metadata": {
        "id": "1tPMcvY6deF0",
        "colab": {
          "base_uri": "https://localhost:8080/"
        },
        "outputId": "c34915ed-bef7-428f-d3c2-b8c937e90f6f"
      },
      "source": [
        "# こちらのセルを実行してください。\n",
        "list_1 = [2, 9, 1, 3, 5, 8, 9]\n",
        "\n",
        "def add_list_num(list):\n",
        "  total = 0\n",
        "  for num in list:\n",
        "    total += num\n",
        "  return total\n",
        "\n",
        "print(add_list_num(list_1))"
      ],
      "execution_count": null,
      "outputs": [
        {
          "output_type": "stream",
          "name": "stdout",
          "text": [
            "37\n"
          ]
        }
      ]
    },
    {
      "cell_type": "code",
      "source": [],
      "metadata": {
        "id": "e7KXkgyyWTb-"
      },
      "execution_count": null,
      "outputs": []
    },
    {
      "cell_type": "markdown",
      "metadata": {
        "id": "aziyHOQsQQqw"
      },
      "source": [
        "\n",
        "## 3. クラスについて学習します。　(3問)"
      ]
    },
    {
      "cell_type": "markdown",
      "metadata": {
        "id": "ujJSty-qQVxZ"
      },
      "source": [
        "### 3.1「name, ageという2つの引数を持ち、それらをコンストラクタで同名のインスタンス変数として定義するようなクラスPersonを定義してください。」"
      ]
    },
    {
      "cell_type": "code",
      "metadata": {
        "id": "UNLFxZl_gPcN"
      },
      "source": [
        "class Person:\n",
        "  def __init__(self, name, age):\n",
        "    self.name = name\n",
        "    delf.age = age"
      ],
      "execution_count": null,
      "outputs": []
    },
    {
      "cell_type": "markdown",
      "metadata": {
        "id": "zfB5gwm2giNg"
      },
      "source": [
        "### 3.2 「先ほどのPersonクラスに、『こんにちは、私の名前は{self.name}です！』と表示するようなメソッドを追加してください。」"
      ]
    },
    {
      "cell_type": "code",
      "metadata": {
        "id": "zWyALeeHgYDZ"
      },
      "source": [
        "class Person:\n",
        "  def __init__(self, name, age):\n",
        "    self.name = name\n",
        "    self.age = age\n",
        "\n",
        "  def introduce(self):\n",
        "    print(f'こんにちは、私の名前は{self.name}です！')"
      ],
      "execution_count": null,
      "outputs": []
    },
    {
      "cell_type": "markdown",
      "metadata": {
        "id": "iNY_mVnvhHqY"
      },
      "source": [
        "### 3.3 「nameは『あきら』, ageは『18』であるようなPersonクラスのインスタンスを生成し、3.2で定義したメソッドを呼び出してください。」"
      ]
    },
    {
      "cell_type": "code",
      "metadata": {
        "id": "ydesnzyJhdTE",
        "colab": {
          "base_uri": "https://localhost:8080/"
        },
        "outputId": "79dceb9a-c3d6-4c7b-a1b4-857072385012"
      },
      "source": [
        "class Person:\n",
        "  def __init__(self, name, age):\n",
        "    self.name = name\n",
        "    self.age = age\n",
        "\n",
        "  def introduce(self):\n",
        "    print(f'こんにちは、私の名前は{self.name}です！')\n",
        "\n",
        "  person_1 = Person('あきら', 18)\n",
        "\n",
        "  introduce(person_1)"
      ],
      "execution_count": null,
      "outputs": [
        {
          "output_type": "stream",
          "name": "stdout",
          "text": [
            "こんにちは、私の名前はあきらです！\n"
          ]
        }
      ]
    },
    {
      "cell_type": "markdown",
      "metadata": {
        "id": "8yNH601ylKgg"
      },
      "source": [
        "### 4. クラスの継承について学習します。　(2問)"
      ]
    },
    {
      "cell_type": "markdown",
      "metadata": {
        "id": "8TGanMktlQBh"
      },
      "source": [
        "### 4.1 「次のPersonクラスを継承したParentクラスを定義し、引数にchildという引数を追加して、同名のインスタンス変数として定義してください。」\n",
        "\n"
      ]
    },
    {
      "cell_type": "code",
      "metadata": {
        "id": "6VppM4FQlPRD"
      },
      "source": [
        "# こちらのセルを実行してください。\n",
        "class Person:\n",
        "  def __init__(self, name, age):\n",
        "    self.name = name\n",
        "    self.age = age\n",
        "\n",
        "  def greeting(self):\n",
        "    print(f'こんにちは、私の名前は{self.name}です!')\n",
        "\n",
        "  class Parent:\n",
        "    def __init__(self, name, age, child)\n",
        "      super().__init__(name, age)\n",
        "      self.child = cjild"
      ],
      "execution_count": null,
      "outputs": []
    },
    {
      "cell_type": "code",
      "metadata": {
        "id": "n0LmSZZxa3fT"
      },
      "source": [],
      "execution_count": null,
      "outputs": []
    },
    {
      "cell_type": "markdown",
      "metadata": {
        "id": "2ig_ECUgbrcl"
      },
      "source": [
        "### 4.2 「先ほどのPersonクラスのgreetingメソッドに、『こんにちは、私の息子は{self.child}です！』と追加で表示するようにオーバーライドしてください。」"
      ]
    },
    {
      "cell_type": "code",
      "metadata": {
        "id": "eRSaHIIRfAV0"
      },
      "source": [
        "class Person:\n",
        "  def __init__(self, name, age):\n",
        "    self.name = name\n",
        "    self.age = age\n",
        "\n",
        "  def greeting(self):\n",
        "    print(f'こんにちは、私の名前は{self.name}です!')\n",
        "\n",
        "class Parent(Person):\n",
        "  def __init__(self, name, age, child):\n",
        "    super().__init__(name, age)\n",
        "    self.child = child\n",
        "\n",
        "  def greeting(self):\n",
        "    super().greeting()\n",
        "    print(f'こんにちは、私の息子は{self.child}です!')\n"
      ],
      "execution_count": null,
      "outputs": []
    },
    {
      "cell_type": "markdown",
      "metadata": {
        "id": "Qyj_uRxUlS99"
      },
      "source": [
        "### 4.3 「nameは『一郎』, ageは『18』, childは『次郎』であるようなParentクラスのインスタンスを生成し、4.2で定義したメソッドを呼び出してください。」"
      ]
    },
    {
      "cell_type": "code",
      "metadata": {
        "id": "GCNHF3_5cJUb",
        "colab": {
          "base_uri": "https://localhost:8080/"
        },
        "outputId": "64e37e49-cc7a-42cb-9fad-8ddfd9b37f0b"
      },
      "source": [
        "class Person:\n",
        "  def __init__(self, name, age):\n",
        "    self.name = name\n",
        "    self.age = age\n",
        "\n",
        "  def greeting(self):\n",
        "    print(f'こんにちは、私の名前は{self.name}です!')\n",
        "\n",
        "class Parent(Person):\n",
        "  def __init__(self, name, age, child):\n",
        "    super().__init__(name, age)\n",
        "    self.child = child\n",
        "\n",
        "  def greeting(self):\n",
        "    super().greeting()\n",
        "    print(f'こんにちは、私の息子は{self.child}です!')\n",
        "\n",
        "parent_1 = Parent('一郎', 18, '次郎')\n",
        "\n",
        "parent_1.greeting()"
      ],
      "execution_count": 7,
      "outputs": [
        {
          "output_type": "stream",
          "name": "stdout",
          "text": [
            "こんにちは、私の名前は一郎です!\n",
            "こんにちは、私の息子は次郎です!\n"
          ]
        }
      ]
    }
  ]
}