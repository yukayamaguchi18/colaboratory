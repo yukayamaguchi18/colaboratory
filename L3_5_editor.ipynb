{
  "nbformat": 4,
  "nbformat_minor": 0,
  "metadata": {
    "colab": {
      "provenance": [],
      "collapsed_sections": [
        "U6mUNOfiQkk6",
        "IGA0sd68QOVe",
        "koqdiZNQTRp8",
        "X29KsoyLd1Po",
        "ocLGxzOTeiAR"
      ],
      "include_colab_link": true
    },
    "kernelspec": {
      "name": "python3",
      "display_name": "Python 3"
    },
    "language_info": {
      "name": "python"
    }
  },
  "cells": [
    {
      "cell_type": "markdown",
      "metadata": {
        "id": "view-in-github",
        "colab_type": "text"
      },
      "source": [
        "<a href=\"https://colab.research.google.com/github/yukayamaguchi18/colaboratory/blob/main/L3_5_editor.ipynb\" target=\"_parent\"><img src=\"https://colab.research.google.com/assets/colab-badge.svg\" alt=\"Open In Colab\"/></a>"
      ]
    },
    {
      "cell_type": "markdown",
      "metadata": {
        "id": "S_DoQU-fHO3H"
      },
      "source": [
        "# その他 exercises\n",
        "\n",
        "\n",
        "1. ライブラリについて学習します。 （2問）\n",
        "2. 参照渡しについて学習します。 (3問)\n",
        "**解答は参考例なので、コードが完全一致している必要はありません。**"
      ]
    },
    {
      "cell_type": "markdown",
      "source": [
        "**<font color=\"red\">このファイルは、コピーして自分のドライブに保存しなければ、編集が保存されず、課題を提出できません。</font>**\n",
        "\n",
        "**<font color=\"red\">もしまだコピーしていなければ、「事前準備」レッスンの「Chapter 2\n",
        "演習問題、提出課題について」を参考にしながら、左上の「ファイル」から「ドライブにコピーを保存」を選択して、必ずコピーを保存してください。</font>**"
      ],
      "metadata": {
        "id": "xxvebA8D0TuZ"
      }
    },
    {
      "cell_type": "markdown",
      "metadata": {
        "id": "wcFT_1J5QDzb"
      },
      "source": [
        "## 1. ライブラリについて学習します。 （2問）"
      ]
    },
    {
      "cell_type": "markdown",
      "metadata": {
        "id": "U6mUNOfiQkk6"
      },
      "source": [
        "### 1.1 「copyモジュールをimportのみを用いて読み込んでください。」"
      ]
    },
    {
      "cell_type": "code",
      "metadata": {
        "id": "_XaMScOEQGO9"
      },
      "source": [
        "import copy"
      ],
      "execution_count": 1,
      "outputs": []
    },
    {
      "cell_type": "markdown",
      "metadata": {
        "id": "wXcAbHBn9XCm"
      },
      "source": [
        "### 1.2 「copyモジュールのdeepcopy関数をfromとimportを用いて読み込んでください。」"
      ]
    },
    {
      "cell_type": "code",
      "metadata": {
        "id": "wwyBSNzb9fIE"
      },
      "source": [
        "import deepcopy from copy"
      ],
      "execution_count": null,
      "outputs": []
    },
    {
      "cell_type": "markdown",
      "metadata": {
        "id": "IGA0sd68QOVe"
      },
      "source": [
        "##2. 参照渡しについて学習します。 (3問)\n"
      ]
    },
    {
      "cell_type": "markdown",
      "metadata": {
        "id": "koqdiZNQTRp8"
      },
      "source": [
        "### 2.1 「次のlist_1の浅いコピーをとったものを変数に代入して表示してください。また、その際に必要なモジュールはインポートしてください。」"
      ]
    },
    {
      "cell_type": "code",
      "source": [
        "# こちらのセルを実行してください。\n",
        "from copy import copy\n",
        "list_1 = [[3, 6, 4], 8, 1, 9]\n",
        "list_2 = copy(list_1)\n",
        "print(list_2)"
      ],
      "metadata": {
        "id": "wslM5ecsXf8Q",
        "colab": {
          "base_uri": "https://localhost:8080/"
        },
        "outputId": "3274b4ad-22bc-4f53-865f-8f1a6947281b"
      },
      "execution_count": 2,
      "outputs": [
        {
          "output_type": "stream",
          "name": "stdout",
          "text": [
            "[[3, 6, 4], 8, 1, 9]\n"
          ]
        }
      ]
    },
    {
      "cell_type": "code",
      "metadata": {
        "id": "2d_LQVgITaDU"
      },
      "source": [],
      "execution_count": null,
      "outputs": []
    },
    {
      "cell_type": "markdown",
      "metadata": {
        "id": "X29KsoyLd1Po"
      },
      "source": [
        "### 2.2 「次のlist_2の深いコピーをとったものを変数に代入して表示してください。また、その際に必要なモジュールはインポートしてください。」"
      ]
    },
    {
      "cell_type": "code",
      "source": [
        "# こちらのセルを実行してください。\n",
        "from copy import deepcopy\n",
        "list_2 = [[3, 6, 4], 8, 1, 9]\n",
        "list_3 = deepcopy(list_2)\n",
        "print(list_3)"
      ],
      "metadata": {
        "id": "Piabz6tpXqI5",
        "colab": {
          "base_uri": "https://localhost:8080/"
        },
        "outputId": "9535b0d2-4f48-46d1-cd89-d6afb7973e2b"
      },
      "execution_count": 3,
      "outputs": [
        {
          "output_type": "stream",
          "name": "stdout",
          "text": [
            "[[3, 6, 4], 8, 1, 9]\n"
          ]
        }
      ]
    },
    {
      "cell_type": "code",
      "metadata": {
        "id": "UbyPktS_TkWI"
      },
      "source": [],
      "execution_count": null,
      "outputs": []
    },
    {
      "cell_type": "markdown",
      "metadata": {
        "id": "ocLGxzOTeiAR"
      },
      "source": [
        "### 2.3 「次の関数にlist_3の浅いコピー, list_4の深いコピーを渡して、元のlist_3・list_4を表示することで違いを確認してください。」"
      ]
    },
    {
      "cell_type": "code",
      "metadata": {
        "id": "EAQyzSzfe5ts",
        "colab": {
          "base_uri": "https://localhost:8080/"
        },
        "outputId": "918ab7e1-0104-4701-855e-7d3973451fa1"
      },
      "source": [
        "# こちらのセルを実行してください。\n",
        "from copy import copy, deepcopy\n",
        "def num_add(n_list):\n",
        "  n_list[0][1] = 999\n",
        "  return n_list\n",
        "\n",
        "list_3 = [[3, 6, 4], 8, 1, 9]\n",
        "list_4 = [[3, 6, 4], 8, 1, 9]\n",
        "\n",
        "list_3a = num_add(copy(list_3))\n",
        "list_4a = num_add(deepcopy(list_4))\n",
        "\n",
        "print(list_3)\n",
        "print(list_3a)\n",
        "print(list_4)\n",
        "print(list_4a)"
      ],
      "execution_count": 5,
      "outputs": [
        {
          "output_type": "stream",
          "name": "stdout",
          "text": [
            "[[3, 999, 4], 8, 1, 9]\n",
            "[[3, 999, 4], 8, 1, 9]\n",
            "[[3, 6, 4], 8, 1, 9]\n",
            "[[3, 999, 4], 8, 1, 9]\n"
          ]
        }
      ]
    },
    {
      "cell_type": "code",
      "source": [],
      "metadata": {
        "id": "EqNHkrIxX0y4"
      },
      "execution_count": null,
      "outputs": []
    }
  ]
}